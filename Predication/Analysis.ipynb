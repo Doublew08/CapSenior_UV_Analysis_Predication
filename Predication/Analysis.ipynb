{
  "nbformat": 4,
  "nbformat_minor": 0,
  "metadata": {
    "colab": {
      "provenance": []
    },
    "kernelspec": {
      "name": "python3",
      "display_name": "Python 3"
    },
    "language_info": {
      "name": "python"
    }
  },
  "cells": [
    {
      "cell_type": "code",
      "source": [
        "import os\n",
        "import time\n",
        "import math\n",
        "import numpy as np\n",
        "import pandas as pd\n",
        "from sklearn.linear_model import LinearRegression\n",
        "from sklearn.preprocessing import PolynomialFeatures\n",
        "import matplotlib.pyplot as plt\n",
        "import seaborn as sns\n",
        "from mpl_toolkits.mplot3d import Axes3D  \n",
        "from sklearn.metrics import r2_score\n"
      ],
      "metadata": {
        "id": "S8YOChVr3EUY"
      },
      "execution_count": null,
      "outputs": []
    },
    {
      "cell_type": "code",
      "execution_count": null,
      "metadata": {
        "cellView": "form",
        "id": "DDVKswx2OVC9",
        "colab": {
          "base_uri": "https://localhost:8080/"
        },
        "outputId": "8000faa9-f6a8-43c8-b67e-67349aab3a5e"
      },
      "outputs": [
        {
          "output_type": "stream",
          "name": "stdout",
          "text": [
            "/content\n",
            "--2022-12-14 02:41:10--  https://doc-0s-00-docs.googleusercontent.com/docs/securesc/3rp4rp7gjuledcqqglchp8l60ter2ccp/get3ljdh7f6vrsv947poei0791bifmjn/1670873175000/02942768578546061931/02942768578546061931/1pU6SXQTvK3yYG0DKfeZQ0c6N8QrSjJ6D?e=download&ax=AEKYgyT5Cq28kEZSCSx9hyDbwj6o2EEeb5AQHvYPh8r5hlkDgZKl8DLWUVYCNd9GisTtjcHB1Sils5DjYxCPxbnU4f5vI14_5GhKMDm_tBR4kEcPGMccpRPdE6N0VsxVmuh5Px8cNmxyxKwmaOWVPSUi-ogyIsgEcuTJbhN9x2nOrkMDA_mM3SFQMh9jtWLKjJAKGbvllxD9SVhHxAMUhm9twlyzFMO4uuSO5gYCRDAbpOlbleFk-cRXKWCWuL6t29YHvylfiq9xdhdDwR9_6OgHADD9yreNcOe7bRmqVb-5UsUI5Le6enL3MfBckrltfokiK5vy3LfYFi1TyVpI_aGPm6HsSm0FbCb-B3aMZrEaOF0gIMT3J6C0Fdq2kc3KobbkyhDX_0BRgdBAno_XJ-CUI6nvksdyUMGpaFNYJoFvISzPbcRvl-RjlmBlI0ECnNnIu7Bs0ZkvgXbY85SeS6gFrHMW0Reb3qQtSSSG2boKJV9dOcOsEFWhZImSHlVCbhdblmHcvmIdje3yJqsOT5qi0ufiqtE5gHV4YLodWmUoJreYrGqNSLEiUT5bMs47w7wg_MLVfDfsmeZaQkGpNVdv-yUVjNEPnRh66dvxTEFDkEWNIDuaC5OTcV6XtU7tLCd7ajmKS6zyDX9SVJ97prKQcUUOCYA2WN5SM2VDxaL3F6AIUxBCQBJOyEL_wfpki7HNdnw-jH6NcKssvHlaLNbTmyzLd_YFtw2Vcc54XLC3xv2Fm52rrt02QBWBDvVZlRW6Ope0XWSB0P1B3WlNpNLd5KHkPBa1rXtlpSdF2JCspCm03Kfc4HKVGzjB_Jv9Xa-9LqHVEnUOjQkCw9aOVO0rfCzDJc-AL_fpVDtpLune22omm3L9_Kurnm5O93Lo4ccE4t081Vh-ytsbNYjCS4gb_PhRZCgcQpCs2ug_rOX0FOkAl4S4wMRjNj-6FjLezxJuXgbsCS6p02kfkOdAAKWV9N17xStFWsmGGoAhVBy-Gw2YF9GJw3mAK6tDkbaYLx7u8VTsd0TyzIa4kB6ysA&uuid=2b277962-b115-4ca6-b057-d91939d8c3ca&authuser=0&nonce=k7s4vk0m6a7to&user=02942768578546061931&hash=764l8grsu1kda50rbje1v76hri10a8ec\n",
            "Resolving doc-0s-00-docs.googleusercontent.com (doc-0s-00-docs.googleusercontent.com)... 172.253.115.132, 2607:f8b0:4004:c06::84\n",
            "Connecting to doc-0s-00-docs.googleusercontent.com (doc-0s-00-docs.googleusercontent.com)|172.253.115.132|:443... connected.\n",
            "HTTP request sent, awaiting response... 403 Forbidden\n",
            "2022-12-14 02:41:10 ERROR 403: Forbidden.\n",
            "\n"
          ]
        }
      ],
      "source": [
        "link = \"wget --header=\\\"Host: doc-0s-00-docs.googleusercontent.com\\\" --header=\\\"User-Agent: Mozilla/5.0 (Windows NT 10.0; Win64; x64) AppleWebKit/537.36 (KHTML, like Gecko) Chrome/108.0.0.0 Safari/537.36\\\" --header=\\\"Accept: text/html,application/xhtml+xml,application/xml;q=0.9,image/avif,image/webp,image/apng,*/*;q=0.8,application/signed-exchange;v=b3;q=0.9\\\" --header=\\\"Accept-Language: en-US,en;q=0.9,ar;q=0.8\\\" --header=\\\"Cookie: AUTH_6lee0osglmbi0u011ju8i3fe7157v0up_nonce=k7s4vk0m6a7to\\\" --header=\\\"Connection: keep-alive\\\" \\\"https://doc-0s-00-docs.googleusercontent.com/docs/securesc/3rp4rp7gjuledcqqglchp8l60ter2ccp/get3ljdh7f6vrsv947poei0791bifmjn/1670873175000/02942768578546061931/02942768578546061931/1pU6SXQTvK3yYG0DKfeZQ0c6N8QrSjJ6D?e=download&ax=AEKYgyT5Cq28kEZSCSx9hyDbwj6o2EEeb5AQHvYPh8r5hlkDgZKl8DLWUVYCNd9GisTtjcHB1Sils5DjYxCPxbnU4f5vI14_5GhKMDm_tBR4kEcPGMccpRPdE6N0VsxVmuh5Px8cNmxyxKwmaOWVPSUi-ogyIsgEcuTJbhN9x2nOrkMDA_mM3SFQMh9jtWLKjJAKGbvllxD9SVhHxAMUhm9twlyzFMO4uuSO5gYCRDAbpOlbleFk-cRXKWCWuL6t29YHvylfiq9xdhdDwR9_6OgHADD9yreNcOe7bRmqVb-5UsUI5Le6enL3MfBckrltfokiK5vy3LfYFi1TyVpI_aGPm6HsSm0FbCb-B3aMZrEaOF0gIMT3J6C0Fdq2kc3KobbkyhDX_0BRgdBAno_XJ-CUI6nvksdyUMGpaFNYJoFvISzPbcRvl-RjlmBlI0ECnNnIu7Bs0ZkvgXbY85SeS6gFrHMW0Reb3qQtSSSG2boKJV9dOcOsEFWhZImSHlVCbhdblmHcvmIdje3yJqsOT5qi0ufiqtE5gHV4YLodWmUoJreYrGqNSLEiUT5bMs47w7wg_MLVfDfsmeZaQkGpNVdv-yUVjNEPnRh66dvxTEFDkEWNIDuaC5OTcV6XtU7tLCd7ajmKS6zyDX9SVJ97prKQcUUOCYA2WN5SM2VDxaL3F6AIUxBCQBJOyEL_wfpki7HNdnw-jH6NcKssvHlaLNbTmyzLd_YFtw2Vcc54XLC3xv2Fm52rrt02QBWBDvVZlRW6Ope0XWSB0P1B3WlNpNLd5KHkPBa1rXtlpSdF2JCspCm03Kfc4HKVGzjB_Jv9Xa-9LqHVEnUOjQkCw9aOVO0rfCzDJc-AL_fpVDtpLune22omm3L9_Kurnm5O93Lo4ccE4t081Vh-ytsbNYjCS4gb_PhRZCgcQpCs2ug_rOX0FOkAl4S4wMRjNj-6FjLezxJuXgbsCS6p02kfkOdAAKWV9N17xStFWsmGGoAhVBy-Gw2YF9GJw3mAK6tDkbaYLx7u8VTsd0TyzIa4kB6ysA&uuid=2b277962-b115-4ca6-b057-d91939d8c3ca&authuser=0&nonce=k7s4vk0m6a7to&user=02942768578546061931&hash=764l8grsu1kda50rbje1v76hri10a8ec\\\" -c -O 'Shanghai AQI and Wheather 2014-2021.csv'\" #@param {type:\"string\"}\n",
        "path = \"/content\" #@param {type:\"string\"}\n",
        "%cd \"$path\"\n",
        "!$link --no-check-certificate"
      ]
    },
    {
      "cell_type": "code",
      "source": [
        "os.rename(\"/content/Shanghai AQI and Wheather 2014-2021 (1).csv\",\"Weather 2014-2021.csv\")"
      ],
      "metadata": {
        "id": "QBfYcmX73ML9"
      },
      "execution_count": null,
      "outputs": []
    },
    {
      "cell_type": "code",
      "source": [
        "df = pd.read_csv('/content/Weather 2014-2021.csv')\n",
        "df['month'] = pd.DatetimeIndex(df['date']).month\n",
        "#print(df['month'])\n",
        "df = df[[\"FeelsLikeC\",\"humidity\",\"uvIndex\",\"month\"]]\n",
        "df = df.dropna()\n",
        "#df = df.sample(n=50)\n",
        "\n",
        "df.describe()\n",
        "#plt.scatter(df.uvIndex,df.FeelsLikeC,color='red')\n",
        "#df.hist()\n",
        "x = df[[\"FeelsLikeC\"]]\n",
        "y = df['uvIndex']\n",
        "\n",
        "lin_reg=LinearRegression()\n",
        "lin_reg.fit(x,y)\n",
        "#predictedUV = lin_reg.predict([[16.3, 51]])\n",
        "#print(predictedUV)\n",
        "lin_reg.intercept_\n",
        "lin_reg.coef_\n",
        "dfth = df[['uvIndex','humidity']]\n",
        "print(dfth.corr())\n",
        "df.corr()\n",
        "df.describe()\n",
        "plt.plot(x, lin_reg.predict(x),color='k') \n",
        "plt.title(\"Regression Model\")\n",
        "plt.xlabel(\"Temperature °C\")\n",
        "plt.ylabel(\"UV Index\")\n",
        "y_pred = lin_reg.predict(x)\n",
        "print(r2_score(y, y_pred))\n",
        "lin_reg.coef_\n",
        "lin_reg.intercept_\n",
        "lin_reg.coef_\n",
        "lin_reg.predict([[26]])"
      ],
      "metadata": {
        "id": "SsiW-Cdj4cfd",
        "colab": {
          "base_uri": "https://localhost:8080/",
          "height": 437
        },
        "outputId": "015cc9a1-65ef-486f-bf7b-cd28426d4cfd"
      },
      "execution_count": null,
      "outputs": [
        {
          "output_type": "stream",
          "name": "stdout",
          "text": [
            "          uvIndex  humidity\n",
            "uvIndex   1.00000   0.08484\n",
            "humidity  0.08484   1.00000\n",
            "0.8766844911323672\n"
          ]
        },
        {
          "output_type": "stream",
          "name": "stderr",
          "text": [
            "/usr/local/lib/python3.8/dist-packages/sklearn/base.py:450: UserWarning: X does not have valid feature names, but LinearRegression was fitted with feature names\n",
            "  warnings.warn(\n"
          ]
        },
        {
          "output_type": "execute_result",
          "data": {
            "text/plain": [
              "array([5.71201051])"
            ]
          },
          "metadata": {},
          "execution_count": 18
        },
        {
          "output_type": "display_data",
          "data": {
            "text/plain": [
              "<Figure size 432x288 with 1 Axes>"
            ],
            "image/png": "[encoded data removed]"
          },
          "metadata": {
            "needs_background": "light"
          }
        }
      ]
    },
    {
      "cell_type": "code",
      "source": [
        "from sklearn.preprocessing import PolynomialFeatures\n",
        "from sklearn.metrics import r2_score\n",
        "import numpy as np\n",
        "import matplotlib.pyplot as plt\n",
        "%matplotlib inline\n",
        "\n",
        "df = pd.read_csv('Weather 2014-2021.csv')\n",
        "\n",
        "df['month'] = pd.DatetimeIndex(df['date']).month\n",
        "'''\n",
        "X = df[[\"month\",\"humidity\"]]\n",
        "y = df[\"uvIndex\"]\n",
        "poly = PolynomialFeatures(degree=2, include_bias=False)\n",
        "poly_features = poly.fit_transform(X)\n",
        "poly_reg_model = LinearRegression()\n",
        "poly_reg_model.fit(poly_features, y)\n",
        "y_predicted = poly_reg_model.predict(poly_features)\n",
        "plt.figure(figsize=(10, 6))\n",
        "plt.title(\"Your first polynomial regression – congrats! :)\", size=16)\n",
        "plt.scatter(x, y)\n",
        "plt.plot(x, y_predicted, c=\"red\")\n",
        "plt.show()\n",
        "'''\n",
        "df.head()"
      ],
      "metadata": {
        "colab": {
          "base_uri": "https://localhost:8080/",
          "height": 386
        },
        "id": "0EUGQBxkAvyN",
        "outputId": "ec3930c0-593f-40fb-9b79-7fc8ee6f4a8d"
      },
      "execution_count": null,
      "outputs": [
        {
          "output_type": "execute_result",
          "data": {
            "text/plain": [
              "         date  maxtempC  mintempC  totalSnow_cm  sunHour  uvIndex  \\\n",
              "0  2014-01-01      15.0       5.0           0.0      8.7      4.0   \n",
              "1  2014-01-02      14.0       7.0           0.0      8.7      4.0   \n",
              "2  2014-01-03      16.0       9.0           0.0      8.7      4.0   \n",
              "3  2014-01-04      10.0       4.0           0.0      5.5      2.0   \n",
              "4  2014-01-05      10.0       3.0           0.0      8.7      3.0   \n",
              "\n",
              "   moon_illumination  DewPointC  FeelsLikeC  HeatIndexC  ...  humidity  \\\n",
              "0                0.0       -1.0        11.0        12.0  ...      43.0   \n",
              "1                2.0        4.0        11.0        13.0  ...      60.0   \n",
              "2               10.0        3.0        11.0        12.0  ...      55.0   \n",
              "3               17.0        3.0         7.0         9.0  ...      68.0   \n",
              "4               24.0        3.0         9.0         9.0  ...      66.0   \n",
              "\n",
              "   precipMM  pressure  tempC  visibility  winddirDegree  windspeedKmph    AQI  \\\n",
              "0       0.0    1021.0   15.0        10.0          242.0           12.0  319.0   \n",
              "1       0.0    1019.0   14.0        10.0          141.0           14.0  352.0   \n",
              "2       0.0    1017.0   16.0        10.0          295.0           14.0  338.0   \n",
              "3       0.1    1022.0   10.0        10.0          169.0           14.0  355.0   \n",
              "4       0.0    1024.0   10.0        10.0          117.0            6.0  343.0   \n",
              "\n",
              "   AQI_Explained  month  \n",
              "0      Hazardous      1  \n",
              "1      Hazardous      1  \n",
              "2      Hazardous      1  \n",
              "3      Hazardous      1  \n",
              "4      Hazardous      1  \n",
              "\n",
              "[5 rows x 23 columns]"
            ],
            "text/html": [
              "\n",
              "  <div id=\"df-59f572d3-3e34-46da-95bc-c9de5b103c9e\">\n",
              "    <div class=\"colab-df-container\">\n",
              "      <div>\n",
              "<style scoped>\n",
              "    .dataframe tbody tr th:only-of-type {\n",
              "        vertical-align: middle;\n",
              "    }\n",
              "\n",
              "    .dataframe tbody tr th {\n",
              "        vertical-align: top;\n",
              "    }\n",
              "\n",
              "    .dataframe thead th {\n",
              "        text-align: right;\n",
              "    }\n",
              "</style>\n",
              "<table border=\"1\" class=\"dataframe\">\n",
              "  <thead>\n",
              "    <tr style=\"text-align: right;\">\n",
              "      <th></th>\n",
              "      <th>date</th>\n",
              "      <th>maxtempC</th>\n",
              "      <th>mintempC</th>\n",
              "      <th>totalSnow_cm</th>\n",
              "      <th>sunHour</th>\n",
              "      <th>uvIndex</th>\n",
              "      <th>moon_illumination</th>\n",
              "      <th>DewPointC</th>\n",
              "      <th>FeelsLikeC</th>\n",
              "      <th>HeatIndexC</th>\n",
              "      <th>...</th>\n",
              "      <th>humidity</th>\n",
              "      <th>precipMM</th>\n",
              "      <th>pressure</th>\n",
              "      <th>tempC</th>\n",
              "      <th>visibility</th>\n",
              "      <th>winddirDegree</th>\n",
              "      <th>windspeedKmph</th>\n",
              "      <th>AQI</th>\n",
              "      <th>AQI_Explained</th>\n",
              "      <th>month</th>\n",
              "    </tr>\n",
              "  </thead>\n",
              "  <tbody>\n",
              "    <tr>\n",
              "      <th>0</th>\n",
              "      <td>2014-01-01</td>\n",
              "      <td>15.0</td>\n",
              "      <td>5.0</td>\n",
              "      <td>0.0</td>\n",
              "      <td>8.7</td>\n",
              "      <td>4.0</td>\n",
              "      <td>0.0</td>\n",
              "      <td>-1.0</td>\n",
              "      <td>11.0</td>\n",
              "      <td>12.0</td>\n",
              "      <td>...</td>\n",
              "      <td>43.0</td>\n",
              "      <td>0.0</td>\n",
              "      <td>1021.0</td>\n",
              "      <td>15.0</td>\n",
              "      <td>10.0</td>\n",
              "      <td>242.0</td>\n",
              "      <td>12.0</td>\n",
              "      <td>319.0</td>\n",
              "      <td>Hazardous</td>\n",
              "      <td>1</td>\n",
              "    </tr>\n",
              "    <tr>\n",
              "      <th>1</th>\n",
              "      <td>2014-01-02</td>\n",
              "      <td>14.0</td>\n",
              "      <td>7.0</td>\n",
              "      <td>0.0</td>\n",
              "      <td>8.7</td>\n",
              "      <td>4.0</td>\n",
              "      <td>2.0</td>\n",
              "      <td>4.0</td>\n",
              "      <td>11.0</td>\n",
              "      <td>13.0</td>\n",
              "      <td>...</td>\n",
              "      <td>60.0</td>\n",
              "      <td>0.0</td>\n",
              "      <td>1019.0</td>\n",
              "      <td>14.0</td>\n",
              "      <td>10.0</td>\n",
              "      <td>141.0</td>\n",
              "      <td>14.0</td>\n",
              "      <td>352.0</td>\n",
              "      <td>Hazardous</td>\n",
              "      <td>1</td>\n",
              "    </tr>\n",
              "    <tr>\n",
              "      <th>2</th>\n",
              "      <td>2014-01-03</td>\n",
              "      <td>16.0</td>\n",
              "      <td>9.0</td>\n",
              "      <td>0.0</td>\n",
              "      <td>8.7</td>\n",
              "      <td>4.0</td>\n",
              "      <td>10.0</td>\n",
              "      <td>3.0</td>\n",
              "      <td>11.0</td>\n",
              "      <td>12.0</td>\n",
              "      <td>...</td>\n",
              "      <td>55.0</td>\n",
              "      <td>0.0</td>\n",
              "      <td>1017.0</td>\n",
              "      <td>16.0</td>\n",
              "      <td>10.0</td>\n",
              "      <td>295.0</td>\n",
              "      <td>14.0</td>\n",
              "      <td>338.0</td>\n",
              "      <td>Hazardous</td>\n",
              "      <td>1</td>\n",
              "    </tr>\n",
              "    <tr>\n",
              "      <th>3</th>\n",
              "      <td>2014-01-04</td>\n",
              "      <td>10.0</td>\n",
              "      <td>4.0</td>\n",
              "      <td>0.0</td>\n",
              "      <td>5.5</td>\n",
              "      <td>2.0</td>\n",
              "      <td>17.0</td>\n",
              "      <td>3.0</td>\n",
              "      <td>7.0</td>\n",
              "      <td>9.0</td>\n",
              "      <td>...</td>\n",
              "      <td>68.0</td>\n",
              "      <td>0.1</td>\n",
              "      <td>1022.0</td>\n",
              "      <td>10.0</td>\n",
              "      <td>10.0</td>\n",
              "      <td>169.0</td>\n",
              "      <td>14.0</td>\n",
              "      <td>355.0</td>\n",
              "      <td>Hazardous</td>\n",
              "      <td>1</td>\n",
              "    </tr>\n",
              "    <tr>\n",
              "      <th>4</th>\n",
              "      <td>2014-01-05</td>\n",
              "      <td>10.0</td>\n",
              "      <td>3.0</td>\n",
              "      <td>0.0</td>\n",
              "      <td>8.7</td>\n",
              "      <td>3.0</td>\n",
              "      <td>24.0</td>\n",
              "      <td>3.0</td>\n",
              "      <td>9.0</td>\n",
              "      <td>9.0</td>\n",
              "      <td>...</td>\n",
              "      <td>66.0</td>\n",
              "      <td>0.0</td>\n",
              "      <td>1024.0</td>\n",
              "      <td>10.0</td>\n",
              "      <td>10.0</td>\n",
              "      <td>117.0</td>\n",
              "      <td>6.0</td>\n",
              "      <td>343.0</td>\n",
              "      <td>Hazardous</td>\n",
              "      <td>1</td>\n",
              "    </tr>\n",
              "  </tbody>\n",
              "</table>\n",
              "<p>5 rows × 23 columns</p>\n",
              "</div>\n",
              "      <button class=\"colab-df-convert\" onclick=\"convertToInteractive('df-59f572d3-3e34-46da-95bc-c9de5b103c9e')\"\n",
              "              title=\"Convert this dataframe to an interactive table.\"\n",
              "              style=\"display:none;\">\n",
              "        \n",
              "  <svg xmlns=\"http://www.w3.org/2000/svg\" height=\"24px\"viewBox=\"0 0 24 24\"\n",
              "       width=\"24px\">\n",
              "    <path d=\"M0 0h24v24H0V0z\" fill=\"none\"/>\n",
              "    <path d=\"M18.56 5.44l.94 2.06.94-2.06 2.06-.94-2.06-.94-.94-2.06-.94 2.06-2.06.94zm-11 1L8.5 8.5l.94-2.06 2.06-.94-2.06-.94L8.5 2.5l-.94 2.06-2.06.94zm10 10l.94 2.06.94-2.06 2.06-.94-2.06-.94-.94-2.06-.94 2.06-2.06.94z\"/><path d=\"M17.41 7.96l-1.37-1.37c-.4-.4-.92-.59-1.43-.59-.52 0-1.04.2-1.43.59L10.3 9.45l-7.72 7.72c-.78.78-.78 2.05 0 2.83L4 21.41c.39.39.9.59 1.41.59.51 0 1.02-.2 1.41-.59l7.78-7.78 2.81-2.81c.8-.78.8-2.07 0-2.86zM5.41 20L4 18.59l7.72-7.72 1.47 1.35L5.41 20z\"/>\n",
              "  </svg>\n",
              "      </button>\n",
              "      \n",
              "  <style>\n",
              "    .colab-df-container {\n",
              "      display:flex;\n",
              "      flex-wrap:wrap;\n",
              "      gap: 12px;\n",
              "    }\n",
              "\n",
              "    .colab-df-convert {\n",
              "      background-color: #E8F0FE;\n",
              "      border: none;\n",
              "      border-radius: 50%;\n",
              "      cursor: pointer;\n",
              "      display: none;\n",
              "      fill: #1967D2;\n",
              "      height: 32px;\n",
              "      padding: 0 0 0 0;\n",
              "      width: 32px;\n",
              "    }\n",
              "\n",
              "    .colab-df-convert:hover {\n",
              "      background-color: #E2EBFA;\n",
              "      box-shadow: 0px 1px 2px rgba(60, 64, 67, 0.3), 0px 1px 3px 1px rgba(60, 64, 67, 0.15);\n",
              "      fill: #174EA6;\n",
              "    }\n",
              "\n",
              "    [theme=dark] .colab-df-convert {\n",
              "      background-color: #3B4455;\n",
              "      fill: #D2E3FC;\n",
              "    }\n",
              "\n",
              "    [theme=dark] .colab-df-convert:hover {\n",
              "      background-color: #434B5C;\n",
              "      box-shadow: 0px 1px 3px 1px rgba(0, 0, 0, 0.15);\n",
              "      filter: drop-shadow(0px 1px 2px rgba(0, 0, 0, 0.3));\n",
              "      fill: #FFFFFF;\n",
              "    }\n",
              "  </style>\n",
              "\n",
              "      <script>\n",
              "        const buttonEl =\n",
              "          document.querySelector('#df-59f572d3-3e34-46da-95bc-c9de5b103c9e button.colab-df-convert');\n",
              "        buttonEl.style.display =\n",
              "          google.colab.kernel.accessAllowed ? 'block' : 'none';\n",
              "\n",
              "        async function convertToInteractive(key) {\n",
              "          const element = document.querySelector('#df-59f572d3-3e34-46da-95bc-c9de5b103c9e');\n",
              "          const dataTable =\n",
              "            await google.colab.kernel.invokeFunction('convertToInteractive',\n",
              "                                                     [key], {});\n",
              "          if (!dataTable) return;\n",
              "\n",
              "          const docLinkHtml = 'Like what you see? Visit the ' +\n",
              "            '<a target=\"_blank\" href=https://colab.research.google.com/notebooks/data_table.ipynb>data table notebook</a>'\n",
              "            + ' to learn more about interactive tables.';\n",
              "          element.innerHTML = '';\n",
              "          dataTable['output_type'] = 'display_data';\n",
              "          await google.colab.output.renderOutput(dataTable, element);\n",
              "          const docLink = document.createElement('div');\n",
              "          docLink.innerHTML = docLinkHtml;\n",
              "          element.appendChild(docLink);\n",
              "        }\n",
              "      </script>\n",
              "    </div>\n",
              "  </div>\n",
              "  "
            ]
          },
          "metadata": {},
          "execution_count": 17
        }
      ]
    },
    {
      "cell_type": "code",
      "source": [
        "#X = df.iloc[:, 8:9].values\n",
        "#y = df[\"uvIndex\"]\n",
        "X = pd.DataFrame([2,3,4,5,6,7,8,9,10,11])\n",
        "y = pd.DataFrame([83,57,42,35,29,25,22,20,18,17])\n",
        "lin = LinearRegression()\n",
        "lin.fit(X, y)\n",
        "from sklearn.preprocessing import PolynomialFeatures\n",
        "poly = PolynomialFeatures(degree = 50)\n",
        "X_poly = poly.fit_transform(X)\n",
        "poly.fit(X_poly, y)\n",
        "lin2 = LinearRegression()\n",
        "lin2.fit(X_poly, y)\n",
        "#plt.scatter(X, y, color = 'blue')\n",
        "plt.plot(X, lin.predict(X), color = 'red')\n",
        "plt.title('Linear Regression')\n",
        "plt.xlabel('Temperature')\n",
        "plt.ylabel('uvIndex')\n",
        "plt.show()\n",
        "# Fitting Polynomial Regression to the dataset\n",
        "from sklearn.preprocessing import PolynomialFeatures\n",
        "  \n",
        "poly = PolynomialFeatures(degree = 4)\n",
        "X_poly = poly.fit_transform(X)\n",
        "  \n",
        "poly.fit(X_poly, y)\n",
        "lin2 = LinearRegression()\n",
        "lin2.fit(X_poly, y)\n",
        "# Visualising the Polynomial Regression results\n",
        "plt.scatter(X, y, color = 'blue')\n",
        "  \n",
        "plt.plot(X, lin2.predict(poly.fit_transform(X)), color = 'red')\n",
        "plt.title('Polynomial Regression')\n",
        "plt.xlabel('Temperature')\n",
        "plt.ylabel('Pressure')\n",
        "plt.show()\n",
        "lin2.predict(poly.fit_transform(X))\n",
        "# Predicting a new result with Polynomial Regression after converting predict variable to 2D array\n",
        "pred2 = 10\n",
        "pred2array = np.array([[pred2]])\n",
        "lin2.predict(poly.fit_transform(pred2array))"
      ],
      "metadata": {
        "colab": {
          "base_uri": "https://localhost:8080/",
          "height": 632
        },
        "id": "0g1NethGJ6dr",
        "outputId": "188d5006-ee15-4942-dc45-ac0112395193"
      },
      "execution_count": null,
      "outputs": [
        {
          "output_type": "error",
          "ename": "KeyError",
          "evalue": "ignored",
          "traceback": [
            "\u001b[0;31m---------------------------------------------------------------------------\u001b[0m",
            "\u001b[0;31mKeyError\u001b[0m                                  Traceback (most recent call last)",
            "\u001b[0;32m<ipython-input-15-ad5f9a3153d9>\u001b[0m in \u001b[0;36m<module>\u001b[0;34m\u001b[0m\n\u001b[1;32m     12\u001b[0m \u001b[0mlin2\u001b[0m\u001b[0;34m.\u001b[0m\u001b[0mfit\u001b[0m\u001b[0;34m(\u001b[0m\u001b[0mX_poly\u001b[0m\u001b[0;34m,\u001b[0m \u001b[0my\u001b[0m\u001b[0;34m)\u001b[0m\u001b[0;34m\u001b[0m\u001b[0;34m\u001b[0m\u001b[0m\n\u001b[1;32m     13\u001b[0m \u001b[0;31m#plt.scatter(X, y, color = 'blue')\u001b[0m\u001b[0;34m\u001b[0m\u001b[0;34m\u001b[0m\u001b[0;34m\u001b[0m\u001b[0m\n\u001b[0;32m---> 14\u001b[0;31m \u001b[0mplt\u001b[0m\u001b[0;34m.\u001b[0m\u001b[0mplot\u001b[0m\u001b[0;34m(\u001b[0m\u001b[0mX\u001b[0m\u001b[0;34m,\u001b[0m \u001b[0mlin\u001b[0m\u001b[0;34m.\u001b[0m\u001b[0mpredict\u001b[0m\u001b[0;34m(\u001b[0m\u001b[0mX\u001b[0m\u001b[0;34m)\u001b[0m\u001b[0;34m,\u001b[0m \u001b[0mcolor\u001b[0m \u001b[0;34m=\u001b[0m \u001b[0;34m'red'\u001b[0m\u001b[0;34m)\u001b[0m\u001b[0;34m\u001b[0m\u001b[0;34m\u001b[0m\u001b[0m\n\u001b[0m\u001b[1;32m     15\u001b[0m \u001b[0mplt\u001b[0m\u001b[0;34m.\u001b[0m\u001b[0mtitle\u001b[0m\u001b[0;34m(\u001b[0m\u001b[0;34m'Linear Regression'\u001b[0m\u001b[0;34m)\u001b[0m\u001b[0;34m\u001b[0m\u001b[0;34m\u001b[0m\u001b[0m\n\u001b[1;32m     16\u001b[0m \u001b[0mplt\u001b[0m\u001b[0;34m.\u001b[0m\u001b[0mxlabel\u001b[0m\u001b[0;34m(\u001b[0m\u001b[0;34m'Temperature'\u001b[0m\u001b[0;34m)\u001b[0m\u001b[0;34m\u001b[0m\u001b[0;34m\u001b[0m\u001b[0m\n",
            "\u001b[0;32m/usr/local/lib/python3.8/dist-packages/matplotlib/pyplot.py\u001b[0m in \u001b[0;36mplot\u001b[0;34m(scalex, scaley, data, *args, **kwargs)\u001b[0m\n\u001b[1;32m   2759\u001b[0m \u001b[0;34m@\u001b[0m\u001b[0mdocstring\u001b[0m\u001b[0;34m.\u001b[0m\u001b[0mcopy\u001b[0m\u001b[0;34m(\u001b[0m\u001b[0mAxes\u001b[0m\u001b[0;34m.\u001b[0m\u001b[0mplot\u001b[0m\u001b[0;34m)\u001b[0m\u001b[0;34m\u001b[0m\u001b[0;34m\u001b[0m\u001b[0m\n\u001b[1;32m   2760\u001b[0m \u001b[0;32mdef\u001b[0m \u001b[0mplot\u001b[0m\u001b[0;34m(\u001b[0m\u001b[0;34m*\u001b[0m\u001b[0margs\u001b[0m\u001b[0;34m,\u001b[0m \u001b[0mscalex\u001b[0m\u001b[0;34m=\u001b[0m\u001b[0;32mTrue\u001b[0m\u001b[0;34m,\u001b[0m \u001b[0mscaley\u001b[0m\u001b[0;34m=\u001b[0m\u001b[0;32mTrue\u001b[0m\u001b[0;34m,\u001b[0m \u001b[0mdata\u001b[0m\u001b[0;34m=\u001b[0m\u001b[0;32mNone\u001b[0m\u001b[0;34m,\u001b[0m \u001b[0;34m**\u001b[0m\u001b[0mkwargs\u001b[0m\u001b[0;34m)\u001b[0m\u001b[0;34m:\u001b[0m\u001b[0;34m\u001b[0m\u001b[0;34m\u001b[0m\u001b[0m\n\u001b[0;32m-> 2761\u001b[0;31m     return gca().plot(\n\u001b[0m\u001b[1;32m   2762\u001b[0m         *args, scalex=scalex, scaley=scaley, **({\"data\": data} if data\n\u001b[1;32m   2763\u001b[0m         is not None else {}), **kwargs)\n",
            "\u001b[0;32m/usr/local/lib/python3.8/dist-packages/matplotlib/axes/_axes.py\u001b[0m in \u001b[0;36mplot\u001b[0;34m(self, scalex, scaley, data, *args, **kwargs)\u001b[0m\n\u001b[1;32m   1645\u001b[0m         \"\"\"\n\u001b[1;32m   1646\u001b[0m         \u001b[0mkwargs\u001b[0m \u001b[0;34m=\u001b[0m \u001b[0mcbook\u001b[0m\u001b[0;34m.\u001b[0m\u001b[0mnormalize_kwargs\u001b[0m\u001b[0;34m(\u001b[0m\u001b[0mkwargs\u001b[0m\u001b[0;34m,\u001b[0m \u001b[0mmlines\u001b[0m\u001b[0;34m.\u001b[0m\u001b[0mLine2D\u001b[0m\u001b[0;34m)\u001b[0m\u001b[0;34m\u001b[0m\u001b[0;34m\u001b[0m\u001b[0m\n\u001b[0;32m-> 1647\u001b[0;31m         \u001b[0mlines\u001b[0m \u001b[0;34m=\u001b[0m \u001b[0;34m[\u001b[0m\u001b[0;34m*\u001b[0m\u001b[0mself\u001b[0m\u001b[0;34m.\u001b[0m\u001b[0m_get_lines\u001b[0m\u001b[0;34m(\u001b[0m\u001b[0;34m*\u001b[0m\u001b[0margs\u001b[0m\u001b[0;34m,\u001b[0m \u001b[0mdata\u001b[0m\u001b[0;34m=\u001b[0m\u001b[0mdata\u001b[0m\u001b[0;34m,\u001b[0m \u001b[0;34m**\u001b[0m\u001b[0mkwargs\u001b[0m\u001b[0;34m)\u001b[0m\u001b[0;34m]\u001b[0m\u001b[0;34m\u001b[0m\u001b[0;34m\u001b[0m\u001b[0m\n\u001b[0m\u001b[1;32m   1648\u001b[0m         \u001b[0;32mfor\u001b[0m \u001b[0mline\u001b[0m \u001b[0;32min\u001b[0m \u001b[0mlines\u001b[0m\u001b[0;34m:\u001b[0m\u001b[0;34m\u001b[0m\u001b[0;34m\u001b[0m\u001b[0m\n\u001b[1;32m   1649\u001b[0m             \u001b[0mself\u001b[0m\u001b[0;34m.\u001b[0m\u001b[0madd_line\u001b[0m\u001b[0;34m(\u001b[0m\u001b[0mline\u001b[0m\u001b[0;34m)\u001b[0m\u001b[0;34m\u001b[0m\u001b[0;34m\u001b[0m\u001b[0m\n",
            "\u001b[0;32m/usr/local/lib/python3.8/dist-packages/matplotlib/axes/_base.py\u001b[0m in \u001b[0;36m__call__\u001b[0;34m(self, *args, **kwargs)\u001b[0m\n\u001b[1;32m    214\u001b[0m                 \u001b[0mthis\u001b[0m \u001b[0;34m+=\u001b[0m \u001b[0margs\u001b[0m\u001b[0;34m[\u001b[0m\u001b[0;36m0\u001b[0m\u001b[0;34m]\u001b[0m\u001b[0;34m,\u001b[0m\u001b[0;34m\u001b[0m\u001b[0;34m\u001b[0m\u001b[0m\n\u001b[1;32m    215\u001b[0m                 \u001b[0margs\u001b[0m \u001b[0;34m=\u001b[0m \u001b[0margs\u001b[0m\u001b[0;34m[\u001b[0m\u001b[0;36m1\u001b[0m\u001b[0;34m:\u001b[0m\u001b[0;34m]\u001b[0m\u001b[0;34m\u001b[0m\u001b[0;34m\u001b[0m\u001b[0m\n\u001b[0;32m--> 216\u001b[0;31m             \u001b[0;32myield\u001b[0m \u001b[0;32mfrom\u001b[0m \u001b[0mself\u001b[0m\u001b[0;34m.\u001b[0m\u001b[0m_plot_args\u001b[0m\u001b[0;34m(\u001b[0m\u001b[0mthis\u001b[0m\u001b[0;34m,\u001b[0m \u001b[0mkwargs\u001b[0m\u001b[0;34m)\u001b[0m\u001b[0;34m\u001b[0m\u001b[0;34m\u001b[0m\u001b[0m\n\u001b[0m\u001b[1;32m    217\u001b[0m \u001b[0;34m\u001b[0m\u001b[0m\n\u001b[1;32m    218\u001b[0m     \u001b[0;32mdef\u001b[0m \u001b[0mget_next_color\u001b[0m\u001b[0;34m(\u001b[0m\u001b[0mself\u001b[0m\u001b[0;34m)\u001b[0m\u001b[0;34m:\u001b[0m\u001b[0;34m\u001b[0m\u001b[0;34m\u001b[0m\u001b[0m\n",
            "\u001b[0;32m/usr/local/lib/python3.8/dist-packages/matplotlib/axes/_base.py\u001b[0m in \u001b[0;36m_plot_args\u001b[0;34m(self, tup, kwargs)\u001b[0m\n\u001b[1;32m    329\u001b[0m \u001b[0;34m\u001b[0m\u001b[0m\n\u001b[1;32m    330\u001b[0m         \u001b[0;32mif\u001b[0m \u001b[0mlen\u001b[0m\u001b[0;34m(\u001b[0m\u001b[0mtup\u001b[0m\u001b[0;34m)\u001b[0m \u001b[0;34m==\u001b[0m \u001b[0;36m2\u001b[0m\u001b[0;34m:\u001b[0m\u001b[0;34m\u001b[0m\u001b[0;34m\u001b[0m\u001b[0m\n\u001b[0;32m--> 331\u001b[0;31m             \u001b[0mx\u001b[0m \u001b[0;34m=\u001b[0m \u001b[0m_check_1d\u001b[0m\u001b[0;34m(\u001b[0m\u001b[0mtup\u001b[0m\u001b[0;34m[\u001b[0m\u001b[0;36m0\u001b[0m\u001b[0;34m]\u001b[0m\u001b[0;34m)\u001b[0m\u001b[0;34m\u001b[0m\u001b[0;34m\u001b[0m\u001b[0m\n\u001b[0m\u001b[1;32m    332\u001b[0m             \u001b[0my\u001b[0m \u001b[0;34m=\u001b[0m \u001b[0m_check_1d\u001b[0m\u001b[0;34m(\u001b[0m\u001b[0mtup\u001b[0m\u001b[0;34m[\u001b[0m\u001b[0;34m-\u001b[0m\u001b[0;36m1\u001b[0m\u001b[0;34m]\u001b[0m\u001b[0;34m)\u001b[0m\u001b[0;34m\u001b[0m\u001b[0;34m\u001b[0m\u001b[0m\n\u001b[1;32m    333\u001b[0m         \u001b[0;32melse\u001b[0m\u001b[0;34m:\u001b[0m\u001b[0;34m\u001b[0m\u001b[0;34m\u001b[0m\u001b[0m\n",
            "\u001b[0;32m/usr/local/lib/python3.8/dist-packages/matplotlib/cbook/__init__.py\u001b[0m in \u001b[0;36m_check_1d\u001b[0;34m(x)\u001b[0m\n\u001b[1;32m   1347\u001b[0m                     message='Support for multi-dimensional indexing')\n\u001b[1;32m   1348\u001b[0m \u001b[0;34m\u001b[0m\u001b[0m\n\u001b[0;32m-> 1349\u001b[0;31m                 \u001b[0mndim\u001b[0m \u001b[0;34m=\u001b[0m \u001b[0mx\u001b[0m\u001b[0;34m[\u001b[0m\u001b[0;34m:\u001b[0m\u001b[0;34m,\u001b[0m \u001b[0;32mNone\u001b[0m\u001b[0;34m]\u001b[0m\u001b[0;34m.\u001b[0m\u001b[0mndim\u001b[0m\u001b[0;34m\u001b[0m\u001b[0;34m\u001b[0m\u001b[0m\n\u001b[0m\u001b[1;32m   1350\u001b[0m                 \u001b[0;31m# we have definitely hit a pandas index or series object\u001b[0m\u001b[0;34m\u001b[0m\u001b[0;34m\u001b[0m\u001b[0;34m\u001b[0m\u001b[0m\n\u001b[1;32m   1351\u001b[0m                 \u001b[0;31m# cast to a numpy array.\u001b[0m\u001b[0;34m\u001b[0m\u001b[0;34m\u001b[0m\u001b[0;34m\u001b[0m\u001b[0m\n",
            "\u001b[0;32m/usr/local/lib/python3.8/dist-packages/pandas/core/frame.py\u001b[0m in \u001b[0;36m__getitem__\u001b[0;34m(self, key)\u001b[0m\n\u001b[1;32m   3456\u001b[0m             \u001b[0;32mif\u001b[0m \u001b[0mself\u001b[0m\u001b[0;34m.\u001b[0m\u001b[0mcolumns\u001b[0m\u001b[0;34m.\u001b[0m\u001b[0mnlevels\u001b[0m \u001b[0;34m>\u001b[0m \u001b[0;36m1\u001b[0m\u001b[0;34m:\u001b[0m\u001b[0;34m\u001b[0m\u001b[0;34m\u001b[0m\u001b[0m\n\u001b[1;32m   3457\u001b[0m                 \u001b[0;32mreturn\u001b[0m \u001b[0mself\u001b[0m\u001b[0;34m.\u001b[0m\u001b[0m_getitem_multilevel\u001b[0m\u001b[0;34m(\u001b[0m\u001b[0mkey\u001b[0m\u001b[0;34m)\u001b[0m\u001b[0;34m\u001b[0m\u001b[0;34m\u001b[0m\u001b[0m\n\u001b[0;32m-> 3458\u001b[0;31m             \u001b[0mindexer\u001b[0m \u001b[0;34m=\u001b[0m \u001b[0mself\u001b[0m\u001b[0;34m.\u001b[0m\u001b[0mcolumns\u001b[0m\u001b[0;34m.\u001b[0m\u001b[0mget_loc\u001b[0m\u001b[0;34m(\u001b[0m\u001b[0mkey\u001b[0m\u001b[0;34m)\u001b[0m\u001b[0;34m\u001b[0m\u001b[0;34m\u001b[0m\u001b[0m\n\u001b[0m\u001b[1;32m   3459\u001b[0m             \u001b[0;32mif\u001b[0m \u001b[0mis_integer\u001b[0m\u001b[0;34m(\u001b[0m\u001b[0mindexer\u001b[0m\u001b[0;34m)\u001b[0m\u001b[0;34m:\u001b[0m\u001b[0;34m\u001b[0m\u001b[0;34m\u001b[0m\u001b[0m\n\u001b[1;32m   3460\u001b[0m                 \u001b[0mindexer\u001b[0m \u001b[0;34m=\u001b[0m \u001b[0;34m[\u001b[0m\u001b[0mindexer\u001b[0m\u001b[0;34m]\u001b[0m\u001b[0;34m\u001b[0m\u001b[0;34m\u001b[0m\u001b[0m\n",
            "\u001b[0;32m/usr/local/lib/python3.8/dist-packages/pandas/core/indexes/range.py\u001b[0m in \u001b[0;36mget_loc\u001b[0;34m(self, key, method, tolerance)\u001b[0m\n\u001b[1;32m    386\u001b[0m                 \u001b[0;32mexcept\u001b[0m \u001b[0mValueError\u001b[0m \u001b[0;32mas\u001b[0m \u001b[0merr\u001b[0m\u001b[0;34m:\u001b[0m\u001b[0;34m\u001b[0m\u001b[0;34m\u001b[0m\u001b[0m\n\u001b[1;32m    387\u001b[0m                     \u001b[0;32mraise\u001b[0m \u001b[0mKeyError\u001b[0m\u001b[0;34m(\u001b[0m\u001b[0mkey\u001b[0m\u001b[0;34m)\u001b[0m \u001b[0;32mfrom\u001b[0m \u001b[0merr\u001b[0m\u001b[0;34m\u001b[0m\u001b[0;34m\u001b[0m\u001b[0m\n\u001b[0;32m--> 388\u001b[0;31m             \u001b[0;32mraise\u001b[0m \u001b[0mKeyError\u001b[0m\u001b[0;34m(\u001b[0m\u001b[0mkey\u001b[0m\u001b[0;34m)\u001b[0m\u001b[0;34m\u001b[0m\u001b[0;34m\u001b[0m\u001b[0m\n\u001b[0m\u001b[1;32m    389\u001b[0m         \u001b[0;32mreturn\u001b[0m \u001b[0msuper\u001b[0m\u001b[0;34m(\u001b[0m\u001b[0;34m)\u001b[0m\u001b[0;34m.\u001b[0m\u001b[0mget_loc\u001b[0m\u001b[0;34m(\u001b[0m\u001b[0mkey\u001b[0m\u001b[0;34m,\u001b[0m \u001b[0mmethod\u001b[0m\u001b[0;34m=\u001b[0m\u001b[0mmethod\u001b[0m\u001b[0;34m,\u001b[0m \u001b[0mtolerance\u001b[0m\u001b[0;34m=\u001b[0m\u001b[0mtolerance\u001b[0m\u001b[0;34m)\u001b[0m\u001b[0;34m\u001b[0m\u001b[0;34m\u001b[0m\u001b[0m\n\u001b[1;32m    390\u001b[0m \u001b[0;34m\u001b[0m\u001b[0m\n",
            "\u001b[0;31mKeyError\u001b[0m: (slice(None, None, None), None)"
          ]
        },
        {
          "output_type": "display_data",
          "data": {
            "text/plain": [
              "<Figure size 432x288 with 1 Axes>"
            ],
            "image/png": "[encoded data removed]"
          },
          "metadata": {
            "needs_background": "light"
          }
        }
      ]
    },
    {
      "cell_type": "code",
      "source": [
        "U = np.array([2,3,4,5,6,7,8,9,10,11])\n",
        "V = np.array([83,57,42,35,29,25,22,20,18,17])\n",
        "print(U.shape)\n",
        "plt.plot(U, V, color = 'red')\n",
        "plt.title('UV&Burn time')\n",
        "plt.xlabel('UV')\n",
        "plt.ylabel('Burn time in minutes')\n",
        "plt.show()"
      ],
      "metadata": {
        "colab": {
          "base_uri": "https://localhost:8080/",
          "height": 312
        },
        "id": "VeFLO2kLS_FP",
        "outputId": "1c4ad710-bbff-4728-af9b-7c83033563b6"
      },
      "execution_count": null,
      "outputs": [
        {
          "output_type": "stream",
          "name": "stdout",
          "text": [
            "(10,)\n"
          ]
        },
        {
          "output_type": "display_data",
          "data": {
            "text/plain": [
              "<Figure size 432x288 with 1 Axes>"
            ],
            "image/png": "[encoded data removed]"
          },
          "metadata": {
            "needs_background": "light"
          }
        }
      ]
    },
    {
      "cell_type": "code",
      "source": [
        "U = U.reshape(1, -1)\n",
        "V = V.reshape(1, -1)\n",
        "lin = LinearRegression()\n",
        "lin.fit(U, V)\n",
        "from sklearn.preprocessing import PolynomialFeatures\n",
        "poly = PolynomialFeatures(degree = 2)\n",
        "X_poly = poly.fit_transform(U)\n",
        "poly.fit(X_poly, V)\n",
        "lin2 = LinearRegression()\n",
        "lin2.fit(X_poly, V)\n",
        "#plt.scatter(X, y, color = 'blue')\n",
        "plt.plot(U, lin.predict(U), color = 'red')\n",
        "plt.title('Linear Regression')\n",
        "plt.xlabel('Temperature')\n",
        "plt.ylabel('uvIndex')\n",
        "plt.show()\n",
        "# Fitting Polynomial Regression to the dataset\n",
        "from sklearn.preprocessing import PolynomialFeatures\n",
        "  \n",
        "poly = PolynomialFeatures(degree = 2)\n",
        "X_poly = poly.fit_transform(U)\n",
        "  \n",
        "poly.fit(X_poly, V)\n",
        "lin2 = LinearRegression()\n",
        "lin2.fit(X_poly, V)\n",
        "# Visualising the Polynomial Regression results\n",
        "plt.scatter(U, V, color = 'blue')\n",
        "  \n",
        "plt.plot(U, lin2.predict(poly.fit_transform(V)), color = 'red')\n",
        "plt.title('Polynomial Regression')\n",
        "plt.xlabel('Temperature')\n",
        "plt.ylabel('Pressure')\n",
        "plt.show()\n",
        "lin2.predict(poly.fit_transform(U))"
      ],
      "metadata": {
        "colab": {
          "base_uri": "https://localhost:8080/",
          "height": 590
        },
        "id": "8r1vAstYWA58",
        "outputId": "4cb10120-7ce4-46e7-ceea-be65a6f15583"
      },
      "execution_count": null,
      "outputs": [
        {
          "output_type": "display_data",
          "data": {
            "text/plain": [
              "<Figure size 432x288 with 1 Axes>"
            ],
            "image/png": "[encoded data removed]"
          },
          "metadata": {
            "needs_background": "light"
          }
        },
        {
          "output_type": "display_data",
          "data": {
            "text/plain": [
              "<Figure size 432x288 with 1 Axes>"
            ],
            "image/png": "[encoded data removed]"
          },
          "metadata": {
            "needs_background": "light"
          }
        },
        {
          "output_type": "execute_result",
          "data": {
            "text/plain": [
              "array([[83., 57., 42., 35., 29., 25., 22., 20., 18., 17.]])"
            ]
          },
          "metadata": {},
          "execution_count": 45
        }
      ]
    }
  ]
}